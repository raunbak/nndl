{
 "cells": [
  {
   "cell_type": "code",
   "execution_count": 8,
   "metadata": {},
   "outputs": [],
   "source": [
    "# Change directory to VSCode workspace root so that relative path loads work correctly. Turn this addition off with the DataScience.changeDirOnImportExport setting\n",
    "# ms-python.python added\n",
    "import os\n",
    "try:\n",
    "\tos.chdir(os.path.join(os.getcwd(), '..'))\n",
    "\t#print(os.getcwd())\n",
    "except:\n",
    "\tpass"
   ]
  },
  {
   "cell_type": "code",
   "execution_count": 9,
   "metadata": {},
   "outputs": [],
   "source": [
    "import numpy as np\n",
    "\n",
    "from neuralnetwork.network import Network\n",
    "from neuralnetwork.layer import Layer\n",
    "from neuralnetwork.neuron import Sigmoid"
   ]
  },
  {
   "cell_type": "code",
   "execution_count": 10,
   "metadata": {},
   "outputs": [],
   "source": [
    "# Lets create a network of 3 layers. 3 input neuron, 4 hidden neurons and 1 output.\n",
    "# all using a sigmoid neuron\n",
    "\n",
    "# Create Network object and what type of neuron to use in the simple network\n",
    "net = Network()\n",
    "neu = Sigmoid()\n",
    "\n",
    "# This should clearly be different - I need an InputLayer class - TODO!\n",
    "input_lay = Layer(size=3, neuron_type=neu)\n",
    "input_lay.bias = np.zeros([3, 1])\n",
    "net.add_layer(input_lay)\n",
    "\n",
    "# Create the hidden layer\n",
    "lay1 = Layer(size=4, neuron_type=neu)\n",
    "lay1.bias = np.random.randn(4, 1)\n",
    "net.add_layer(lay1)\n",
    "\n",
    "# Create the output layer - maybe this also should have its own type.\n",
    "lay2 = Layer(size=1, neuron_type=neu)\n",
    "lay2.bias = np.random.randn(1, 1)\n",
    "net.add_layer(lay2)\n"
   ]
  },
  {
   "cell_type": "code",
   "execution_count": 11,
   "metadata": {},
   "outputs": [],
   "source": [
    "x = np.array([[0, 0, 1], [0, 1, 1], [1, 0, 0], [1, 1, 1]]).T\n",
    "y = np.array([[0, ], [1, ], [1, ], [0, ]]).T\n",
    "\n",
    "net.SGD(train_x=x, train_y=y, epochs=3000, mini_batch_size=1, eta=0.1)\n"
   ]
  },
  {
   "cell_type": "code",
   "execution_count": 12,
   "metadata": {},
   "outputs": [
    {
     "data": {
      "text/plain": [
       "array([[0.06461684, 0.91878186, 0.94112487, 0.07626092]])"
      ]
     },
     "execution_count": 12,
     "metadata": {},
     "output_type": "execute_result"
    }
   ],
   "source": [
    "test = np.array([[0, 0, 1], [0, 1, 1], [1, 0, 0], [1, 1, 1]]).T\n",
    "_, a_s = net.feedforward(test)\n",
    "a_s[-1]\n"
   ]
  },
  {
   "cell_type": "code",
   "execution_count": 13,
   "metadata": {},
   "outputs": [
    {
     "data": {
      "text/plain": [
       "array([[0, 1, 1, 0]])"
      ]
     },
     "execution_count": 13,
     "metadata": {},
     "output_type": "execute_result"
    }
   ],
   "source": [
    "y"
   ]
  },
  {
   "cell_type": "code",
   "execution_count": null,
   "metadata": {},
   "outputs": [],
   "source": []
  }
 ],
 "metadata": {
  "file_extension": ".py",
  "kernelspec": {
   "display_name": "Python 3",
   "language": "python",
   "name": "python3"
  },
  "language_info": {
   "codemirror_mode": {
    "name": "ipython",
    "version": 3
   },
   "file_extension": ".py",
   "mimetype": "text/x-python",
   "name": "python",
   "nbconvert_exporter": "python",
   "pygments_lexer": "ipython3",
   "version": "3.6.7"
  },
  "mimetype": "text/x-python",
  "name": "python",
  "npconvert_exporter": "python",
  "pygments_lexer": "ipython3",
  "version": 3
 },
 "nbformat": 4,
 "nbformat_minor": 2
}
